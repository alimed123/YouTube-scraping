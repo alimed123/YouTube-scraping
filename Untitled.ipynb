{
 "cells": [
  {
   "cell_type": "markdown",
   "id": "a44e79ae",
   "metadata": {},
   "source": [
    "Head section\n"
   ]
  },
  {
   "cell_type": "markdown",
   "id": "7670b854",
   "metadata": {},
   "source": [
    "# Files section"
   ]
  },
  {
   "cell_type": "code",
   "execution_count": 373,
   "id": "7150509f",
   "metadata": {},
   "outputs": [],
   "source": [
    "creds=\"client_.json\""
   ]
  },
  {
   "cell_type": "markdown",
   "id": "609a56a1",
   "metadata": {},
   "source": [
    "# Coding"
   ]
  },
  {
   "cell_type": "code",
   "execution_count": 374,
   "id": "e5e2e66f",
   "metadata": {},
   "outputs": [],
   "source": [
    "import google.oauth2.credentials\n",
    "import google_auth_oauthlib.flow\n",
    "from googleapiclient.discovery import build\n",
    "from googleapiclient.errors import HttpError\n",
    "from google_auth_oauthlib.flow import InstalledAppFlow\n"
   ]
  },
  {
   "cell_type": "code",
   "execution_count": 380,
   "id": "8d83911b",
   "metadata": {},
   "outputs": [],
   "source": [
    "# This OAuth 2.0 access scope allows for read-only access to the authenticated\n",
    "# user's account, but not other types of account access.\n",
    "SCOPES = ['https://www.googleapis.com/auth/youtube.readonly',\"https://www.googleapis.com/auth/youtube.channel-memberships.creator\",\"https://www.googleapis.com/auth/youtube.force-ssl\",\"https://www.googleapis.com/auth/youtubepartner\"]\n",
    "API_SERVICE_NAME = 'youtube'\n",
    "API_VERSION = 'v3'\n",
    "\n",
    "# Authorize the request and store authorization credentials.\n",
    "def get_authenticated_service():\n",
    "    flow = InstalledAppFlow.from_client_secrets_file(creds, SCOPES)\n",
    "    credentials = flow.run_console()\n",
    "    return build(API_SERVICE_NAME, API_VERSION, credentials = credentials)"
   ]
  },
  {
   "cell_type": "code",
   "execution_count": 381,
   "id": "d375194f",
   "metadata": {},
   "outputs": [
    {
     "name": "stdout",
     "output_type": "stream",
     "text": [
      "Please visit this URL to authorize this application: https://accounts.google.com/o/oauth2/auth?response_type=code&client_id=1058599230581-un3qnfm73r2m9ddtpp7i8sh41b9jge82.apps.googleusercontent.com&redirect_uri=urn%3Aietf%3Awg%3Aoauth%3A2.0%3Aoob&scope=https%3A%2F%2Fwww.googleapis.com%2Fauth%2Fyoutube.readonly+https%3A%2F%2Fwww.googleapis.com%2Fauth%2Fyoutube.channel-memberships.creator+https%3A%2F%2Fwww.googleapis.com%2Fauth%2Fyoutube.force-ssl+https%3A%2F%2Fwww.googleapis.com%2Fauth%2Fyoutubepartner&state=HMwDKu4Li8gSWIU7WgD9KURxRN7dWr&prompt=consent&access_type=offline\n",
      "Enter the authorization code: 4/1ARtbsJqToBf-yVoVhpwFFYf_pVMpgWI4HjIRrkySWw0biMLcG4_aPSUOI-I\n"
     ]
    }
   ],
   "source": [
    "#to just sign and get sign up password\n",
    "youtube=get_authenticated_service()"
   ]
  },
  {
   "cell_type": "code",
   "execution_count": 310,
   "id": "b1febbb6",
   "metadata": {},
   "outputs": [],
   "source": [
    "#the channel scraping can be made using the parts\n",
    "channels_response = youtube.channels().list(\n",
    "    forUsername=\"BanderitaX\",\n",
    "    part='status,snippet,status,statistics,topicDetails'\n",
    "  ).execute()\n",
    "id_=(channels_response[\"items\"][0][\"id\"])\n",
    "channel_description=channels_response[\"items\"][0][\"snippet\"][\"description\"]\n",
    "channel_creation_date=channels_response[\"items\"][0][\"snippet\"][\"publishedAt\"]\n",
    "channel_logo=channels_response[\"items\"][0][\"snippet\"][\"thumbnails\"][\"high\"][\"url\"]\n",
    "channel_country=channels_response[\"items\"][0][\"snippet\"][\"country\"]\n",
    "subscriberCount=channels_response[\"items\"][0][\"statistics\"][\"subscriberCount\"]\n",
    "videoCount=channels_response[\"items\"][0][\"statistics\"][\"videoCount\"]\n",
    "is_Kids_channel=channels_response[\"items\"][0][\"status\"][\"madeForKids\"]#just to know if the channel make contents for kids\n",
    "can_do_long_videos=channels_response[\"items\"][0][\"status\"][\"longUploadsStatus\"]\n",
    "privacy=channels_response[\"items\"][0][\"status\"][\"privacyStatus\"]\n",
    "#this section works only with channel id so we have to get it first\n",
    "#by using this codes we will get the list of all videos\n",
    "videos=youtube.activities().list(\n",
    "    channelId=id_,\n",
    "    part=\"snippet\",\n",
    "    maxResults=9000000,\n",
    "    publishedAfter=\"2020-01-01T00:00:00Z\"\n",
    ").execute()\n",
    "number_of_videos=len(videos[\"items\"])#the difference between \"number_of_videos\" and \"videoCount\" in that the first one is only for videos from 2020 till now,the other for all the years\n",
    "\n",
    "#this section works only with channel id so we have to get it first\n",
    "#by using this codes we will get the list of all videos\n",
    "for video in videos[\"items\"]:\n",
    "    vd_id=video[\"snippet\"][\"thumbnails\"][\"default\"][\"url\"].replace(\"/default.jpg\",\"\").replace(\"https://i.ytimg.com/vi/\",\"\")\n",
    "    #getting thumbnails of each video\n"
   ]
  },
  {
   "cell_type": "code",
   "execution_count": 438,
   "id": "6d7dae50",
   "metadata": {},
   "outputs": [],
   "source": [
    "#all videos details not ready yet but it can be used in this section\n",
    "video_details=youtube.videos().list(\n",
    "    part=\"statistics,snippet,player,contentDetails\",\n",
    "    id=\"pntOl0A7tDQ\"\n",
    ").execute()\n",
    "views=video_details[\"items\"][0][\"statistics\"][\"viewCount\"]\n",
    "likes=video_details[\"items\"][0][\"statistics\"][\"likeCount\"]\n",
    "comment=video_details[\"items\"][0][\"statistics\"][\"commentCount\"]\n",
    "video_title=video_details[\"items\"][0][\"snippet\"][\"title\"]\n",
    "video_description=video_details[\"items\"][0][\"snippet\"][\"description\"]\n",
    "date_of_publishing=video_details[\"items\"][0][\"snippet\"][\"publishedAt\"]\n",
    "tags_used=video_details[\"items\"][0][\"snippet\"][\"tags\"]\n",
    "duration=video_details[\"items\"][0][\"contentDetails\"][\"duration\"]\n",
    "duration.replace(\"PT\",\"\").replace(\"H\",\":\").replace(\"M\",\":\").replace(\"S\",\"\")\n",
    "defintion=video_details[\"items\"][0][\"contentDetails\"][\"definition\"]"
   ]
  },
  {
   "cell_type": "code",
   "execution_count": 452,
   "id": "bec94142",
   "metadata": {},
   "outputs": [
    {
     "data": {
      "text/plain": [
       "100"
      ]
     },
     "execution_count": 452,
     "metadata": {},
     "output_type": "execute_result"
    }
   ],
   "source": [
    "videos=youtube.activities().list(\n",
    "    channelId=id_,\n",
    "    part=\"snippet\",\n",
    "    maxResults=9000000,\n",
    "    publishedAfter=\"2020-01-01T00:00:00Z\"\n",
    ").execute()\n",
    "number_of_videos=len(videos[\"items\"])#the difference between \"number_of_videos\" and \"videoCount\" in that the first one is only for videos from 2020 till now,the other for all the years\n",
    "\n",
    "#this section works only with channel id so we have to get it first\n",
    "#by using this codes we will get the list of all videos\n",
    "number_of_c=0\n",
    "for video in videos[\"items\"]:\n",
    "    vd_id=video[\"snippet\"][\"thumbnails\"][\"default\"][\"url\"].replace(\"/default.jpg\",\"\").replace(\"https://i.ytimg.com/vi/\",\"\")\n",
    "    comment_sec = youtube. commentThreads().list(\n",
    "        part=\"snippet\",\n",
    "        videoId=vd_id,\n",
    "        maxResults= 100,   #get 20 comments\n",
    "        order=\"orderUnspecified\"\n",
    "    ).execute()\n",
    "    number_of_c+=100"
   ]
  },
  {
   "cell_type": "code",
   "execution_count": 459,
   "id": "e73cacf0",
   "metadata": {},
   "outputs": [
    {
     "name": "stdout",
     "output_type": "stream",
     "text": [
      "total number of comments that we can get for BanderitaX channel is:25600\n"
     ]
    }
   ],
   "source": [
    "print(f\"total number of comments that we can get for BanderitaX channel is:{number_of_c}\")"
   ]
  },
  {
   "cell_type": "code",
   "execution_count": 456,
   "id": "113513b2",
   "metadata": {},
   "outputs": [
    {
     "data": {
      "text/plain": [
       "3"
      ]
     },
     "execution_count": 456,
     "metadata": {},
     "output_type": "execute_result"
    }
   ],
   "source": [
    "#this is the comment section\n",
    "comment_sec = youtube. commentThreads().list(\n",
    "        part=\"snippet\",\n",
    "        videoId=vd_id,\n",
    "        maxResults= 100,   #get 20 comments\n",
    "        order=\"orderUnspecified\"\n",
    "    ).execute()\n",
    "for co in comment_sec[\"items\"]\n",
    "author_name=co[\"snippet\"][\"topLevelComment\"][\"snippet\"][\"authorDisplayName\"]\n",
    "authorImage=co[\"snippet\"][\"topLevelComment\"][\"snippet\"][\"authorProfileImageUrl\"]\n",
    "date_of_commenting=co[\"snippet\"][\"topLevelComment\"][\"snippet\"][\"publishedAt\"]\n",
    "commentText=co[\"snippet\"][\"topLevelComment\"][\"snippet\"][\"textDisplay\"]\n",
    "authorChannel=co[\"snippet\"][\"topLevelComment\"][\"snippet\"][\"authorChannelUrl\"]"
   ]
  },
  {
   "cell_type": "code",
   "execution_count": 468,
   "id": "bf684d0f",
   "metadata": {},
   "outputs": [
    {
     "data": {
      "text/plain": [
       "'Abdu Zizo'"
      ]
     },
     "execution_count": 468,
     "metadata": {},
     "output_type": "execute_result"
    }
   ],
   "source": []
  },
  {
   "cell_type": "code",
   "execution_count": 474,
   "id": "8ac3537e",
   "metadata": {},
   "outputs": [],
   "source": []
  },
  {
   "cell_type": "code",
   "execution_count": 475,
   "id": "bbaa51ab",
   "metadata": {},
   "outputs": [
    {
     "data": {
      "text/plain": [
       "{'kind': 'youtube#commentThread',\n",
       " 'etag': 'QGErZbl5dNOSQj3gyYQ-d4iy7NE',\n",
       " 'id': 'UgyqOmpQPmheCA55JKR4AaABAg',\n",
       " 'snippet': {'videoId': 'p4aMWMQFR0A',\n",
       "  'topLevelComment': {'kind': 'youtube#comment',\n",
       "   'etag': 'nE_zpBH9Y461MBN-yOBEd3ap9-s',\n",
       "   'id': 'UgyqOmpQPmheCA55JKR4AaABAg',\n",
       "   'snippet': {'videoId': 'p4aMWMQFR0A',\n",
       "    'textDisplay': 'ههههه',\n",
       "    'textOriginal': 'ههههه',\n",
       "    'authorDisplayName': 'Abdu Zizo',\n",
       "    'authorProfileImageUrl': 'https://yt3.ggpht.com/ytc/AMLnZu8B6kpmn1--hO--3c3Jzm2t1PvQbkDW1V1pb3j_4vjxurBukPgZYL_AtMGg0f3q=s48-c-k-c0x00ffffff-no-rj',\n",
       "    'authorChannelUrl': 'http://www.youtube.com/channel/UCPwzgp8OpfWZEqSw2h-genw',\n",
       "    'authorChannelId': {'value': 'UCPwzgp8OpfWZEqSw2h-genw'},\n",
       "    'canRate': True,\n",
       "    'viewerRating': 'none',\n",
       "    'likeCount': 0,\n",
       "    'publishedAt': '2022-09-20T11:21:18Z',\n",
       "    'updatedAt': '2022-09-20T11:21:18Z'}},\n",
       "  'canReply': True,\n",
       "  'totalReplyCount': 0,\n",
       "  'isPublic': True}}"
      ]
     },
     "execution_count": 475,
     "metadata": {},
     "output_type": "execute_result"
    }
   ],
   "source": [
    "comment_sec[\"items\"][0]"
   ]
  },
  {
   "cell_type": "code",
   "execution_count": null,
   "id": "7d13f863",
   "metadata": {},
   "outputs": [],
   "source": []
  },
  {
   "cell_type": "code",
   "execution_count": null,
   "id": "9660309d",
   "metadata": {},
   "outputs": [],
   "source": []
  }
 ],
 "metadata": {
  "kernelspec": {
   "display_name": "Python 3 (ipykernel)",
   "language": "python",
   "name": "python3"
  },
  "language_info": {
   "codemirror_mode": {
    "name": "ipython",
    "version": 3
   },
   "file_extension": ".py",
   "mimetype": "text/x-python",
   "name": "python",
   "nbconvert_exporter": "python",
   "pygments_lexer": "ipython3",
   "version": "3.10.4"
  }
 },
 "nbformat": 4,
 "nbformat_minor": 5
}
