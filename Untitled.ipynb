{
 "cells": [
  {
   "cell_type": "markdown",
   "id": "d21ae84e",
   "metadata": {},
   "source": [
    "Head section\n"
   ]
  },
  {
   "cell_type": "markdown",
   "id": "b8c26521",
   "metadata": {},
   "source": [
    "# Files section"
   ]
  },
  {
   "cell_type": "code",
   "execution_count": 1,
   "id": "b0f7547c",
   "metadata": {},
   "outputs": [],
   "source": [
    "creds=\"client_.json\"\n",
    "german_file=\"germany_national_executive.csv\""
   ]
  },
  {
   "cell_type": "markdown",
   "id": "fd553940",
   "metadata": {},
   "source": [
    "# data frame and id construction"
   ]
  },
  {
   "cell_type": "code",
   "execution_count": 2,
   "id": "6c7e1c8c",
   "metadata": {},
   "outputs": [],
   "source": [
    "import pandas as pd\n",
    "df=pd.read_csv(german_file)\n",
    "channels_id=df[\"Channel_ID\"].to_list()"
   ]
  },
  {
   "cell_type": "markdown",
   "id": "b2cb5a16",
   "metadata": {},
   "source": [
    "# Coding"
   ]
  },
  {
   "cell_type": "code",
   "execution_count": 3,
   "id": "d90b2f7c",
   "metadata": {},
   "outputs": [],
   "source": [
    "import google.oauth2.credentials\n",
    "import google_auth_oauthlib.flow\n",
    "from googleapiclient.discovery import build\n",
    "from googleapiclient.errors import HttpError\n",
    "from google_auth_oauthlib.flow import InstalledAppFlow\n",
    "from tqdm import tqdm"
   ]
  },
  {
   "cell_type": "code",
   "execution_count": 4,
   "id": "c5581d70",
   "metadata": {},
   "outputs": [],
   "source": [
    "# This OAuth 2.0 access scope allows for read-only access to the authenticated\n",
    "# user's account, but not other types of account access.\n",
    "SCOPES = ['https://www.googleapis.com/auth/youtube.readonly',\"https://www.googleapis.com/auth/youtube.channel-memberships.creator\",\"https://www.googleapis.com/auth/youtube.force-ssl\",\"https://www.googleapis.com/auth/youtubepartner\"]\n",
    "API_SERVICE_NAME = 'youtube'\n",
    "API_VERSION = 'v3'\n",
    "\n",
    "# Authorize the request and store authorization credentials.\n",
    "def get_authenticated_service():\n",
    "    flow = InstalledAppFlow.from_client_secrets_file(creds, SCOPES)\n",
    "    credentials = flow.run_console()\n",
    "    return build(API_SERVICE_NAME, API_VERSION, credentials = credentials)"
   ]
  },
  {
   "cell_type": "code",
   "execution_count": 63,
   "id": "6343891e",
   "metadata": {},
   "outputs": [
    {
     "name": "stdout",
     "output_type": "stream",
     "text": [
      "Please visit this URL to authorize this application: https://accounts.google.com/o/oauth2/auth?response_type=code&client_id=1058599230581-un3qnfm73r2m9ddtpp7i8sh41b9jge82.apps.googleusercontent.com&redirect_uri=urn%3Aietf%3Awg%3Aoauth%3A2.0%3Aoob&scope=https%3A%2F%2Fwww.googleapis.com%2Fauth%2Fyoutube.readonly+https%3A%2F%2Fwww.googleapis.com%2Fauth%2Fyoutube.channel-memberships.creator+https%3A%2F%2Fwww.googleapis.com%2Fauth%2Fyoutube.force-ssl+https%3A%2F%2Fwww.googleapis.com%2Fauth%2Fyoutubepartner&state=pnKsqiWWCaPAE5Mo0eISXVPQLUkIk6&prompt=consent&access_type=offline\n",
      "Enter the authorization code: 4/1ARtbsJqv2KXYqUcf-EnECuPVDX0RJAKiGKOq0gYkbANwWBc8YkxsNKXU5zE\n"
     ]
    }
   ],
   "source": [
    "#to just sign and get sign up password\n",
    "youtube=get_authenticated_service()"
   ]
  },
  {
   "cell_type": "code",
   "execution_count": 169,
   "id": "3313acab",
   "metadata": {},
   "outputs": [
    {
     "name": "stderr",
     "output_type": "stream",
     "text": [
      "\r",
      "  0%|                                                    | 0/68 [00:00<?, ?it/s]"
     ]
    },
    {
     "name": "stdout",
     "output_type": "stream",
     "text": [
      "number of videos for channel Bundesregierung is 256\n"
     ]
    },
    {
     "name": "stderr",
     "output_type": "stream",
     "text": [
      "\r",
      "  1%|▋                                           | 1/68 [00:45<50:29, 45.21s/it]"
     ]
    },
    {
     "name": "stdout",
     "output_type": "stream",
     "text": [
      "number of videos for channel Jens Spahn is 26\n",
      "total number of comments is9\n",
      "total time to scrape all comments is 0:00:00.310037\n",
      "total number of comments is1\n",
      "total time to scrape all comments is 0:00:00.374812\n",
      "total number of comments is28\n",
      "total time to scrape all comments is 0:00:00.497504\n",
      "total number of comments is3\n",
      "total time to scrape all comments is 0:00:00.311234\n",
      "total number of comments is5\n",
      "total time to scrape all comments is 0:00:00.409511\n",
      "total number of comments is24\n",
      "total time to scrape all comments is 0:00:00.309073\n",
      "total number of comments is39\n",
      "total time to scrape all comments is 0:00:00.512966\n",
      "total number of comments is18\n",
      "total time to scrape all comments is 0:00:00.388412\n",
      "total number of comments is25\n",
      "total time to scrape all comments is 0:00:00.300500\n"
     ]
    },
    {
     "name": "stderr",
     "output_type": "stream",
     "text": [
      "  7%|███▏                                        | 5/68 [00:54<11:29, 10.95s/it]\n"
     ]
    },
    {
     "ename": "HttpError",
     "evalue": "<HttpError 403 when requesting https://youtube.googleapis.com/youtube/v3/commentThreads?part=id%2Csnippet%2Creplies&videoId=pntOl0A7tDQ&maxResults=100&pageToken=QURTSl9pMG9DX2pUaHY3SG1ETWVqb1p4Z1BVZDFLOXMtQlloUUFtYWw3UzdzVUZEY0VOQXU3bHV5YlA3QjhtRk1GR3NETEQwb3NweklxZw%3D%3D&alt=json returned \"The request cannot be completed because you have exceeded your <a href=\"/youtube/v3/getting-started#quota\">quota</a>.\". Details: \"[{'message': 'The request cannot be completed because you have exceeded your <a href=\"/youtube/v3/getting-started#quota\">quota</a>.', 'domain': 'youtube.quota', 'reason': 'quotaExceeded'}]\">",
     "output_type": "error",
     "traceback": [
      "\u001b[0;31m---------------------------------------------------------------------------\u001b[0m",
      "\u001b[0;31mHttpError\u001b[0m                                 Traceback (most recent call last)",
      "Input \u001b[0;32mIn [169]\u001b[0m, in \u001b[0;36m<cell line: 4>\u001b[0;34m()\u001b[0m\n\u001b[1;32m     96\u001b[0m \u001b[38;5;28;01mif\u001b[39;00m \u001b[38;5;124m\"\u001b[39m\u001b[38;5;124mnextPageToken\u001b[39m\u001b[38;5;124m\"\u001b[39m \u001b[38;5;129;01min\u001b[39;00m com:\n\u001b[1;32m     97\u001b[0m     token\u001b[38;5;241m=\u001b[39mcom[\u001b[38;5;124m\"\u001b[39m\u001b[38;5;124mnextPageToken\u001b[39m\u001b[38;5;124m\"\u001b[39m]\n\u001b[1;32m     98\u001b[0m     com\u001b[38;5;241m=\u001b[39m\u001b[43myoutube\u001b[49m\u001b[38;5;241;43m.\u001b[39;49m\u001b[43mcommentThreads\u001b[49m\u001b[43m(\u001b[49m\u001b[43m)\u001b[49m\u001b[38;5;241;43m.\u001b[39;49m\u001b[43mlist\u001b[49m\u001b[43m(\u001b[49m\u001b[43mpart\u001b[49m\u001b[38;5;241;43m=\u001b[39;49m\u001b[38;5;124;43m'\u001b[39;49m\u001b[38;5;124;43mid,snippet,replies\u001b[39;49m\u001b[38;5;124;43m'\u001b[39;49m\u001b[43m,\u001b[49m\n\u001b[1;32m     99\u001b[0m \u001b[43m                                               \u001b[49m\u001b[43mvideoId\u001b[49m\u001b[38;5;241;43m=\u001b[39;49m\u001b[38;5;124;43m\"\u001b[39;49m\u001b[38;5;124;43mpntOl0A7tDQ\u001b[39;49m\u001b[38;5;124;43m\"\u001b[39;49m\u001b[43m,\u001b[49m\n\u001b[1;32m    100\u001b[0m \u001b[43m                                               \u001b[49m\u001b[43mmaxResults\u001b[49m\u001b[38;5;241;43m=\u001b[39;49m\u001b[38;5;241;43m100\u001b[39;49m\u001b[43m,\u001b[49m\n\u001b[1;32m    101\u001b[0m \u001b[43m                                               \u001b[49m\u001b[43mpageToken\u001b[49m\u001b[38;5;241;43m=\u001b[39;49m\u001b[43mcom\u001b[49m\u001b[43m[\u001b[49m\u001b[38;5;124;43m\"\u001b[39;49m\u001b[38;5;124;43mnextPageToken\u001b[39;49m\u001b[38;5;124;43m\"\u001b[39;49m\u001b[43m]\u001b[49m\n\u001b[0;32m--> 102\u001b[0m \u001b[43m    \u001b[49m\u001b[43m)\u001b[49m\u001b[38;5;241;43m.\u001b[39;49m\u001b[43mexecute\u001b[49m\u001b[43m(\u001b[49m\u001b[43m)\u001b[49m\n\u001b[1;32m    103\u001b[0m     \u001b[38;5;28;01mfor\u001b[39;00m co \u001b[38;5;129;01min\u001b[39;00m com[\u001b[38;5;124m\"\u001b[39m\u001b[38;5;124mitems\u001b[39m\u001b[38;5;124m\"\u001b[39m]:\n\u001b[1;32m    104\u001b[0m         author_name\u001b[38;5;241m=\u001b[39mco[\u001b[38;5;124m\"\u001b[39m\u001b[38;5;124msnippet\u001b[39m\u001b[38;5;124m\"\u001b[39m][\u001b[38;5;124m\"\u001b[39m\u001b[38;5;124mtopLevelComment\u001b[39m\u001b[38;5;124m\"\u001b[39m][\u001b[38;5;124m\"\u001b[39m\u001b[38;5;124msnippet\u001b[39m\u001b[38;5;124m\"\u001b[39m][\u001b[38;5;124m\"\u001b[39m\u001b[38;5;124mauthorDisplayName\u001b[39m\u001b[38;5;124m\"\u001b[39m]\n",
      "File \u001b[0;32m~/.local/lib/python3.10/site-packages/googleapiclient/_helpers.py:130\u001b[0m, in \u001b[0;36mpositional.<locals>.positional_decorator.<locals>.positional_wrapper\u001b[0;34m(*args, **kwargs)\u001b[0m\n\u001b[1;32m    128\u001b[0m     \u001b[38;5;28;01melif\u001b[39;00m positional_parameters_enforcement \u001b[38;5;241m==\u001b[39m POSITIONAL_WARNING:\n\u001b[1;32m    129\u001b[0m         logger\u001b[38;5;241m.\u001b[39mwarning(message)\n\u001b[0;32m--> 130\u001b[0m \u001b[38;5;28;01mreturn\u001b[39;00m \u001b[43mwrapped\u001b[49m\u001b[43m(\u001b[49m\u001b[38;5;241;43m*\u001b[39;49m\u001b[43margs\u001b[49m\u001b[43m,\u001b[49m\u001b[43m \u001b[49m\u001b[38;5;241;43m*\u001b[39;49m\u001b[38;5;241;43m*\u001b[39;49m\u001b[43mkwargs\u001b[49m\u001b[43m)\u001b[49m\n",
      "File \u001b[0;32m~/.local/lib/python3.10/site-packages/googleapiclient/http.py:938\u001b[0m, in \u001b[0;36mHttpRequest.execute\u001b[0;34m(self, http, num_retries)\u001b[0m\n\u001b[1;32m    936\u001b[0m     callback(resp)\n\u001b[1;32m    937\u001b[0m \u001b[38;5;28;01mif\u001b[39;00m resp\u001b[38;5;241m.\u001b[39mstatus \u001b[38;5;241m>\u001b[39m\u001b[38;5;241m=\u001b[39m \u001b[38;5;241m300\u001b[39m:\n\u001b[0;32m--> 938\u001b[0m     \u001b[38;5;28;01mraise\u001b[39;00m HttpError(resp, content, uri\u001b[38;5;241m=\u001b[39m\u001b[38;5;28mself\u001b[39m\u001b[38;5;241m.\u001b[39muri)\n\u001b[1;32m    939\u001b[0m \u001b[38;5;28;01mreturn\u001b[39;00m \u001b[38;5;28mself\u001b[39m\u001b[38;5;241m.\u001b[39mpostproc(resp, content)\n",
      "\u001b[0;31mHttpError\u001b[0m: <HttpError 403 when requesting https://youtube.googleapis.com/youtube/v3/commentThreads?part=id%2Csnippet%2Creplies&videoId=pntOl0A7tDQ&maxResults=100&pageToken=QURTSl9pMG9DX2pUaHY3SG1ETWVqb1p4Z1BVZDFLOXMtQlloUUFtYWw3UzdzVUZEY0VOQXU3bHV5YlA3QjhtRk1GR3NETEQwb3NweklxZw%3D%3D&alt=json returned \"The request cannot be completed because you have exceeded your <a href=\"/youtube/v3/getting-started#quota\">quota</a>.\". Details: \"[{'message': 'The request cannot be completed because you have exceeded your <a href=\"/youtube/v3/getting-started#quota\">quota</a>.', 'domain': 'youtube.quota', 'reason': 'quotaExceeded'}]\">"
     ]
    }
   ],
   "source": [
    "#the channel scraping can be made using the parts\n",
    "from time import process_time\n",
    "t1=process_time()\n",
    "for channelIDD in tqdm(channels_id):\n",
    "    totalComments=0\n",
    "    if str(channelIDD) == \"nan\":\n",
    "        pass\n",
    "    else: \n",
    "            channels_response = youtube.channels().list(\n",
    "                id=channelIDD,\n",
    "                part='status,snippet,status,statistics,topicDetails'\n",
    "              ).execute()\n",
    "            name=(channels_response[\"items\"][0][\"snippet\"][\"title\"])\n",
    "            channel_description=channels_response[\"items\"][0][\"snippet\"][\"description\"]\n",
    "            channel_creation_date=channels_response[\"items\"][0][\"snippet\"][\"publishedAt\"]\n",
    "            channel_logo=channels_response[\"items\"][0][\"snippet\"][\"thumbnails\"][\"high\"][\"url\"]\n",
    "            try:\n",
    "                channel_country=channels_response[\"items\"][0][\"snippet\"][\"country\"]\n",
    "            except:\n",
    "                channel_country=\"\"\n",
    "            subscriberCount=channels_response[\"items\"][0][\"statistics\"][\"subscriberCount\"]\n",
    "            videoCount=channels_response[\"items\"][0][\"statistics\"][\"videoCount\"]\n",
    "            can_do_long_videos=channels_response[\"items\"][0][\"status\"][\"longUploadsStatus\"]\n",
    "            privacy=channels_response[\"items\"][0][\"status\"][\"privacyStatus\"]\n",
    "            #this section works only with channel id so we have to get it first\n",
    "            #by using this codes we will get the list of all videos\n",
    "            videos=youtube.activities().list(\n",
    "                channelId=channelIDD,\n",
    "                part=\"snippet\",\n",
    "                maxResults=9000000,\n",
    "                publishedAfter=\"2020-01-01T00:00:00Z\"\n",
    "            ).execute()\n",
    "            number_of_videos=len(videos[\"items\"])#the difference between \"number_of_videos\" and \"videoCount\" in that the first one is only for videos from 2020 till now,the other for all the years\n",
    "            #print(f\"{name} {channel_description} {channel_creation_date} {channel_description} {channel_logo} {channel_country}\")\n",
    "            #this section works only with channel id so we have to get it first\n",
    "            #by using this codes we will get the list of all videos\n",
    "            print(f\"number of videos for channel {name} is {number_of_videos}\")\n",
    "            from datetime import datetime\n",
    "            t_vd0=datetime.now()\n",
    "            comment=0\n",
    "            for video in videos[\"items\"]:\n",
    "                vd_id=video[\"snippet\"][\"thumbnails\"][\"default\"][\"url\"].replace(\"/default.jpg\",\"\").replace(\"https://i.ytimg.com/vi/\",\"\")\n",
    "                #getting thumbnails of each video\n",
    "                thumbnail=video[\"snippet\"][\"thumbnails\"][\"high\"][\"url\"]\n",
    "                #all videos details not ready yet but it can be used in this section\n",
    "                video_details=youtube.videos().list(\n",
    "                    part=\"statistics,snippet,player,contentDetails\",\n",
    "                    id=vd_id\n",
    "                ).execute()\n",
    "                if len(video_details[\"items\"])==0:\n",
    "                    pass\n",
    "                else:   \n",
    "                    try:\n",
    "                        views=video_details[\"items\"][0][\"statistics\"][\"viewCount\"]\n",
    "                    except:\n",
    "                        views=0\n",
    "                    try:\n",
    "                        likes=video_details[\"items\"][0][\"statistics\"][\"likeCount\"]\n",
    "                    except:\n",
    "                        likes=0\n",
    "                    try:\n",
    "                        comment=video_details[\"items\"][0][\"statistics\"][\"commentCount\"]\n",
    "                    except:\n",
    "                        comment=0\n",
    "                    video_title=video_details[\"items\"][0][\"snippet\"][\"title\"]\n",
    "                    video_description=video_details[\"items\"][0][\"snippet\"][\"description\"]\n",
    "                    date_of_publishing=video_details[\"items\"][0][\"snippet\"][\"publishedAt\"]\n",
    "                    try:\n",
    "                        tags_used=video_details[\"items\"][0][\"snippet\"][\"tags\"]\n",
    "                    except:\n",
    "                        tags_used=\"desabled\"\n",
    "                    duration=video_details[\"items\"][0][\"contentDetails\"][\"duration\"]\n",
    "                    duration.replace(\"PT\",\"\").replace(\"H\",\":\").replace(\"M\",\":\").replace(\"S\",\"\")\n",
    "                    defintion=video_details[\"items\"][0][\"contentDetails\"][\"definition\"] \n",
    "                #this is the comment section\n",
    "                Total=[]\n",
    "                token=\"\"\n",
    "                tt=datetime.now()\n",
    "                if int(comment)==0:\n",
    "                    pass\n",
    "                else:\n",
    "                    while True:\n",
    "                        com=youtube.commentThreads().list(part='id,snippet,replies',\n",
    "                                                                       videoId=vd_id,\n",
    "                                                                       maxResults=100,\n",
    "                                                                       pageToken=token\n",
    "                        ).execute()\n",
    "                        toTal.append(len(com[\"items\"]))\n",
    "                        for co in com[\"items\"]:\n",
    "                            author_name=co[\"snippet\"][\"topLevelComment\"][\"snippet\"][\"authorDisplayName\"]\n",
    "                            commentText=co[\"snippet\"][\"topLevelComment\"][\"snippet\"][\"textDisplay\"]\n",
    "                            authorImage=co[\"snippet\"][\"topLevelComment\"][\"snippet\"][\"authorProfileImageUrl\"]\n",
    "                            date_of_commenting=co[\"snippet\"][\"topLevelComment\"][\"snippet\"][\"publishedAt\"]\n",
    "                            authorChannel=co[\"snippet\"][\"topLevelComment\"][\"snippet\"][\"authorChannelUrl\"]\n",
    "                            Total.append(f\"comment by {author_name} ---->> {commentText}\")\n",
    "                        if \"nextPageToken\" in com:\n",
    "                            token=com[\"nextPageToken\"]\n",
    "                            com=youtube.commentThreads().list(part='id,snippet,replies',\n",
    "                                                                       videoId=\"pntOl0A7tDQ\",\n",
    "                                                                       maxResults=100,\n",
    "                                                                       pageToken=com[\"nextPageToken\"]\n",
    "                            ).execute()\n",
    "                            for co in com[\"items\"]:\n",
    "                                author_name=co[\"snippet\"][\"topLevelComment\"][\"snippet\"][\"authorDisplayName\"]\n",
    "                                authorImage=co[\"snippet\"][\"topLevelComment\"][\"snippet\"][\"authorProfileImageUrl\"]\n",
    "                                date_of_commenting=co[\"snippet\"][\"topLevelComment\"][\"snippet\"][\"publishedAt\"]\n",
    "                                commentText=co[\"snippet\"][\"topLevelComment\"][\"snippet\"][\"textDisplay\"]\n",
    "                                authorChannel=co[\"snippet\"][\"topLevelComment\"][\"snippet\"][\"authorChannelUrl\"]\n",
    "                                Total.append(f\"comment by {author_name} ---->> {commentText}\")\n",
    "\n",
    "                        else:\n",
    "                            break\n",
    "                    print(f\"total number of comments is{len(list(set(Total)))}\")\n",
    "                    ttf=datetime.now()\n",
    "                    print(f\"total time to scrape all comments is {ttf-tt}\")\n",
    "t2=process_time()\n",
    "print(\"*******************************************\")\n",
    "print(f\"approximate time to finish the list is {t2-t1} \")"
   ]
  },
  {
   "cell_type": "code",
   "execution_count": 85,
   "id": "9c363c87",
   "metadata": {},
   "outputs": [],
   "source": [
    "#all videos details not ready yet but it can be used in this section\n",
    "video_details=youtube.videos().list(\n",
    "    part=\"statistics,snippet,player,contentDetails\",\n",
    "    id=\"pntOl0A7tDQ\"\n",
    ").execute()\n",
    "views=video_details[\"items\"][0][\"statistics\"][\"viewCount\"]\n",
    "likes=video_details[\"items\"][0][\"statistics\"][\"likeCount\"]\n",
    "comment=video_details[\"items\"][0][\"statistics\"][\"commentCount\"]\n",
    "video_title=video_details[\"items\"][0][\"snippet\"][\"title\"]\n",
    "video_description=video_details[\"items\"][0][\"snippet\"][\"description\"]\n",
    "date_of_publishing=video_details[\"items\"][0][\"snippet\"][\"publishedAt\"]\n",
    "tags_used=video_details[\"items\"][0][\"snippet\"][\"tags\"]\n",
    "duration=video_details[\"items\"][0][\"contentDetails\"][\"duration\"]\n",
    "duration.replace(\"PT\",\"\").replace(\"H\",\":\").replace(\"M\",\":\").replace(\"S\",\"\")\n",
    "defintion=video_details[\"items\"][0][\"contentDetails\"][\"definition\"]"
   ]
  },
  {
   "cell_type": "code",
   "execution_count": 452,
   "id": "d77380c5",
   "metadata": {},
   "outputs": [
    {
     "data": {
      "text/plain": [
       "100"
      ]
     },
     "execution_count": 452,
     "metadata": {},
     "output_type": "execute_result"
    }
   ],
   "source": [
    "videos=youtube.activities().list(\n",
    "    channelId=id_,\n",
    "    part=\"snippet\",\n",
    "    maxResults=9000000,\n",
    "    publishedAfter=\"2020-01-01T00:00:00Z\"\n",
    ").execute()\n",
    "number_of_videos=len(videos[\"items\"])#the difference between \"number_of_videos\" and \"videoCount\" in that the first one is only for videos from 2020 till now,the other for all the years\n",
    "\n",
    "#this section works only with channel id so we have to get it first\n",
    "#by using this codes we will get the list of all videos\n",
    "number_of_c=0\n",
    "for video in videos[\"items\"]:\n",
    "    vd_id=video[\"snippet\"][\"thumbnails\"][\"default\"][\"url\"].replace(\"/default.jpg\",\"\").replace(\"https://i.ytimg.com/vi/\",\"\")\n",
    "    comment_sec = youtube. commentThreads().list(\n",
    "        part=\"snippet\",\n",
    "        videoId=vd_id,\n",
    "        maxResults= 100,   #get 20 comments\n",
    "        order=\"orderUnspecified\"\n",
    "    ).execute()\n",
    "    number_of_c+=100"
   ]
  },
  {
   "cell_type": "code",
   "execution_count": 170,
   "id": "4a8d5cc5",
   "metadata": {},
   "outputs": [
    {
     "name": "stdout",
     "output_type": "stream",
     "text": [
      "[{'text': 'Where is he? Where is he?', 'start': 1.18, 'duration': 1.03}, {'text': 'I’m sure he’s hiding', 'start': 2.55, 'duration': 1.26}, {'text': 'No!', 'start': 4.08, 'duration': 1.0}, {'text': 'I’m going to die', 'start': 7.45, 'duration': 0.96}, {'text': 'Al-Salam Alikum. How are you, guys?', 'start': 28.58, 'duration': 1.57}, {'text': 'I’m back with a new Fortnite video', 'start': 30.15, 'duration': 1.83}, {'text': 'Since the new season just came out', 'start': 31.98, 'duration': 1.77}, {'text': 'And I saw creatures like Chromium', 'start': 33.85, 'duration': 2.16}, {'text': 'That turn to slime', 'start': 36.01, 'duration': 2.04}, {'text': 'There’s also a Spiderman skin now', 'start': 38.05, 'duration': 2.8}, {'text': 'So, they convinced me to try the new season', 'start': 40.98, 'duration': 4.7}, {'text': 'I hope you enjoy with me', 'start': 45.75, 'duration': 1.76}, {'text': 'Don’t forget to use my code TMES', 'start': 47.55, 'duration': 2.33}, {'text': 'And don’t forget to subscribe and hit the like', 'start': 50.15, 'duration': 2.8}, {'text': 'Let’s begin', 'start': 52.95, 'duration': 1.13}, {'text': 'Ok, guys. Let’s see', 'start': 54.08, 'duration': 2.0}, {'text': 'Here’s the map, there’s something new here', 'start': 56.08, 'duration': 1.87}, {'text': 'Let’s drop here', 'start': 57.95, 'duration': 1.0}, {'text': 'It’s a storm they had in the trailer, \\nI don’t know what it’s about', 'start': 58.95, 'duration': 3.43}, {'text': 'I want to know what it does, let’s check it out', 'start': 62.38, 'duration': 3.2}, {'text': 'Let’s see', 'start': 65.58, 'duration': 1.0}, {'text': 'We can go in it?!', 'start': 66.71, 'duration': 1.17}, {'text': 'I can’t, ok', 'start': 68.41, 'duration': 1.24}, {'text': 'Does this break now?', 'start': 70.35, 'duration': 1.76}, {'text': 'Is this a new element?', 'start': 73.48, 'duration': 2.17}, {'text': 'Does it make me fly at least?', 'start': 76.25, 'duration': 1.63}, {'text': 'Yes, it does', 'start': 79.25, 'duration': 1.36}, {'text': 'Nice, nice, nice', 'start': 80.61, 'duration': 1.4}, {'text': 'I transformed', 'start': 83.41, 'duration': 1.3}, {'text': 'Hello!', 'start': 85.68, 'duration': 1.2}, {'text': 'What do I do now?', 'start': 89.21, 'duration': 1.57}, {'text': 'Wait, wait', 'start': 91.45, 'duration': 1.03}, {'text': 'You jerk, I’ll show you', 'start': 96.21, 'duration': 2.4}, {'text': 'And I jumped after him like an idiot', 'start': 101.01, 'duration': 2.57}, {'text': 'What? What’s going on?', 'start': 104.98, 'duration': 1.83}, {'text': 'Is it something I take to turn into slime?', 'start': 106.81, 'duration': 4.27}, {'text': 'There’s a sound', 'start': 116.28, 'duration': 1.0}, {'text': 'There’s a sound, guys', 'start': 120.15, 'duration': 1.2}, {'text': 'Did you see that?', 'start': 123.05, 'duration': 1.0}, {'text': 'What?', 'start': 127.95, 'duration': 1.1}, {'text': 'Did he come out from here?', 'start': 130.15, 'duration': 1.63}, {'text': 'Yes, I see him', 'start': 137.15, 'duration': 1.33}, {'text': 'Come on now', 'start': 138.85, 'duration': 2.0}, {'text': 'What a jerk', 'start': 141.38, 'duration': 1.2}, {'text': 'Come here', 'start': 145.11, 'duration': 0.87}, {'text': 'I’ll show you', 'start': 145.98, 'duration': 0.93}, {'text': 'No, no, he’s in the car', 'start': 147.11, 'duration': 2.0}, {'text': 'How do I shoot him?!', 'start': 156.58, 'duration': 2.03}, {'text': 'Ok, nice', 'start': 168.38, 'duration': 0.97}, {'text': 'Nice, I got him', 'start': 170.05, 'duration': 1.16}, {'text': \"Now it's just the one who disappears left\", 'start': 171.21, 'duration': 1.74}, {'text': 'How? I want to disappear like him', 'start': 172.95, 'duration': 2.1}, {'text': 'I need to kill him to see the item he used', 'start': 175.05, 'duration': 2.06}, {'text': 'You’re pushing it', 'start': 177.11, 'duration': 1.5}, {'text': 'Stop going in and out', 'start': 178.61, 'duration': 2.67}, {'text': 'A wolf!', 'start': 185.45, 'duration': 1.46}, {'text': 'I just needed to run and enter', 'start': 188.65, 'duration': 2.36}, {'text': 'Turns out I was chasing a wolf all that time', 'start': 196.08, 'duration': 3.13}, {'text': 'Just like a wolf', 'start': 199.71, 'duration': 1.64}, {'text': 'Yes, like a wolf', 'start': 201.65, 'duration': 1.33}, {'text': 'No, not the storm. No', 'start': 208.01, 'duration': 1.9}, {'text': 'I want to enter the zone.\\nsomeone is shooting at me', 'start': 210.11, 'duration': 2.94}, {'text': 'The most important thing is to enter the zone now', 'start': 216.11, 'duration': 1.87}, {'text': 'It’s all good', 'start': 218.38, 'duration': 1.1}, {'text': 'Let’s go', 'start': 223.28, 'duration': 0.73}, {'text': 'I’m a slime ball', 'start': 229.28, 'duration': 1.3}, {'text': \"So that's how it works!\", 'start': 240.01, 'duration': 2.17}, {'text': 'That’s nice', 'start': 244.55, 'duration': 1.33}, {'text': 'I hear someone', 'start': 246.38, 'duration': 0.93}, {'text': 'Watch this', 'start': 247.91, 'duration': 1.0}, {'text': 'Where are you? Show yourself', 'start': 253.91, 'duration': 1.54}, {'text': 'Come out, I’m a ghost', 'start': 256.11, 'duration': 3.0}, {'text': 'I found a shield, nice', 'start': 259.81, 'duration': 1.64}, {'text': 'There’s someone', 'start': 263.28, 'duration': 1.07}, {'text': 'Come on!', 'start': 267.78, 'duration': 0.97}, {'text': 'I honestly don’t know which is better', 'start': 272.01, 'duration': 1.14}, {'text': 'This shotgun or my second weapon?', 'start': 273.15, 'duration': 2.6}, {'text': 'But I’m trying both ', 'start': 275.85, 'duration': 1.66}, {'text': 'Let’s turn into a slime', 'start': 277.51, 'duration': 1.44}, {'text': 'I can only turn to a slime when I’m covered with that liquid', 'start': 278.95, 'duration': 3.8}, {'text': 'You know?', 'start': 282.75, 'duration': 0.83}, {'text': 'I can get this liquid ether by going into the storm', 'start': 283.58, 'duration': 2.93}, {'text': 'Or by getting an item apparently, you know', 'start': 286.51, 'duration': 5.8}, {'text': 'Let me see her emotes', 'start': 293.58, 'duration': 1.3}, {'text': 'Look!', 'start': 296.81, 'duration': 1.04}, {'text': 'That’s a cool move', 'start': 299.48, 'duration': 2.7}, {'text': 'Just like the movie frames, you know', 'start': 302.21, 'duration': 3.0}, {'text': 'I applaud them for this emote', 'start': 305.41, 'duration': 1.77}, {'text': 'Come, I’ll show you', 'start': 335.85, 'duration': 1.3}, {'text': 'Come', 'start': 337.15, 'duration': 0.6}, {'text': 'Wait, I want to know what this purple thing is', 'start': 337.75, 'duration': 2.86}, {'text': 'This is the thing, I’m sure', 'start': 342.21, 'duration': 1.84}, {'text': 'Yes, it is', 'start': 345.08, 'duration': 1.2}, {'text': 'Time to turn into a slime', 'start': 346.28, 'duration': 2.3}, {'text': 'Come here', 'start': 351.71, 'duration': 1.1}, {'text': 'He shot me!', 'start': 355.58, 'duration': 1.83}, {'text': 'Hell with him', 'start': 357.61, 'duration': 1.04}, {'text': 'There’s a golden sniper', 'start': 358.71, 'duration': 1.54}, {'text': 'No, please, please', 'start': 360.51, 'duration': 1.47}, {'text': 'Please, please, please', 'start': 362.68, 'duration': 1.4}, {'text': 'Let me take this quickly', 'start': 364.31, 'duration': 1.37}, {'text': 'Ok, we got the sniper', 'start': 366.55, 'duration': 1.46}, {'text': 'Hurry up, I want to take this', 'start': 368.01, 'duration': 2.17}, {'text': 'Take it, come on', 'start': 370.18, 'duration': 1.17}, {'text': 'I can take many of it, nice', 'start': 371.71, 'duration': 1.47}, {'text': 'Let’s go', 'start': 373.18, 'duration': 1.0}, {'text': 'Come on, go, go', 'start': 374.71, 'duration': 1.37}, {'text': 'Go', 'start': 376.65, 'duration': 0.9}, {'text': 'Nice, let’s go', 'start': 379.35, 'duration': 1.56}, {'text': 'Hurry up, come on', 'start': 381.51, 'duration': 1.27}, {'text': 'Yes, nice', 'start': 383.51, 'duration': 0.94}, {'text': 'Nice, let’s go', 'start': 387.11, 'duration': 1.27}, {'text': 'Look how the slime moves like this', 'start': 389.35, 'duration': 1.63}, {'text': 'There’s some loot over there', 'start': 393.38, 'duration': 2.77}, {'text': 'Should we go to it?', 'start': 396.15, 'duration': 0.9}, {'text': 'I thought this is the loot for a second', 'start': 397.18, 'duration': 2.47}, {'text': 'In the name of Allah', 'start': 399.68, 'duration': 1.03}, {'text': 'What do we have?', 'start': 400.71, 'duration': 0.97}, {'text': 'Worst loot ever', 'start': 402.21, 'duration': 2.54}, {'text': 'Is this a powerful shotgun or not?', 'start': 405.45, 'duration': 2.13}, {'text': 'I can’t take a risk, guys', 'start': 408.05, 'duration': 1.8}, {'text': 'I’ll take it, as long as it’s in the loot\\n box then it’s good I think', 'start': 409.85, 'duration': 5.0}, {'text': 'Hopefully', 'start': 414.85, 'duration': 1.0}, {'text': 'Lama!', 'start': 415.85, 'duration': 1.0}, {'text': 'A lama', 'start': 417.91, 'duration': 0.94}, {'text': 'It’s a prank', 'start': 421.11, 'duration': 0.9}, {'text': 'What?!', 'start': 424.28, 'duration': 0.97}, {'text': 'Right in front of me, ok', 'start': 425.55, 'duration': 2.53}, {'text': 'What’s up?', 'start': 428.65, 'duration': 1.3}, {'text': 'Where is he?', 'start': 431.21, 'duration': 1.24}, {'text': 'Where did he go?', 'start': 435.41, 'duration': 1.34}, {'text': 'Ok, only few left', 'start': 436.75, 'duration': 2.0}, {'text': 'If I win this match', 'start': 439.25, 'duration': 1.43}, {'text': 'That would be amazing', 'start': 441.31, 'duration': 2.17}, {'text': 'Please die', 'start': 449.45, 'duration': 1.0}, {'text': 'Please', 'start': 451.18, 'duration': 1.1}, {'text': 'I caught a butterfly, guys', 'start': 458.65, 'duration': 1.93}, {'text': 'My aim is on a butterfly or something', 'start': 461.08, 'duration': 3.13}, {'text': 'What’s this?', 'start': 464.38, 'duration': 0.87}, {'text': 'He was aiming on someone over here', 'start': 465.25, 'duration': 1.73}, {'text': 'I saved someone', 'start': 467.38, 'duration': 1.33}, {'text': 'The savior, Bander', 'start': 469.51, 'duration': 1.54}, {'text': 'Oh, golden shotgun!', 'start': 471.28, 'duration': 3.1}, {'text': 'Venom', 'start': 481.41, 'duration': 1.0}, {'text': 'Out of all player, Venom got me', 'start': 483.48, 'duration': 2.27}, {'text': 'Hold on, guys', 'start': 486.05, 'duration': 1.1}, {'text': 'Are you scared?', 'start': 491.05, 'duration': 1.2}, {'text': 'Don’t tell me I can turn an animal as well', 'start': 493.35, 'duration': 2.06}, {'text': 'No, wait', 'start': 499.65, 'duration': 1.03}, {'text': 'How does it work again?', 'start': 501.48, 'duration': 1.7}, {'text': 'Buddy!', 'start': 504.05, 'duration': 1.03}, {'text': 'Yes, there we go', 'start': 506.71, 'duration': 1.2}, {'text': 'We both turned to Chromium', 'start': 508.61, 'duration': 1.64}, {'text': 'Can I transform?', 'start': 511.01, 'duration': 1.44}, {'text': 'No, no, no', 'start': 513.48, 'duration': 0.97}, {'text': 'Hell with you', 'start': 514.45, 'duration': 1.06}, {'text': 'Hey!', 'start': 515.81, 'duration': 0.94}, {'text': 'Attack him, Chromium lion', 'start': 519.38, 'duration': 2.07}, {'text': 'A lion covered with Chromium, ouch!', 'start': 521.85, 'duration': 2.4}, {'text': 'This Chromium reminds of the guy that says\\n “Everything is covered with Chromium”', 'start': 524.98, 'duration': 5.93}, {'text': 'Polished with Chromium', 'start': 531.28, 'duration': 1.33}, {'text': 'No', 'start': 533.21, 'duration': 1.07}, {'text': 'Don’t tell me someone just shot my animal', 'start': 535.08, 'duration': 2.17}, {'text': 'We will have a problem this way', 'start': 538.68, 'duration': 1.33}, {'text': 'We will have problems', 'start': 540.68, 'duration': 1.6}, {'text': 'Anything but my Chromium covered animal', 'start': 542.38, 'duration': 2.67}, {'text': 'It’s The Flash!', 'start': 546.81, 'duration': 1.07}, {'text': 'You can do whatever you want, buddy', 'start': 548.05, 'duration': 2.0}, {'text': 'Ok, that’s enough', 'start': 550.65, 'duration': 1.06}, {'text': 'I just killed The Flash, guys', 'start': 552.81, 'duration': 2.57}, {'text': 'Not a single shot, great', 'start': 560.75, 'duration': 1.5}, {'text': 'I can’t go in with the animal', 'start': 562.55, 'duration': 2.0}, {'text': 'I have to go alone', 'start': 565.15, 'duration': 1.66}, {'text': 'Man, you turned this to a car race', 'start': 575.75, 'duration': 2.56}, {'text': 'Come here', 'start': 581.21, 'duration': 1.04}, {'text': 'And he’s dead', 'start': 582.75, 'duration': 1.26}, {'text': 'He’s dead', 'start': 584.75, 'duration': 2.16}, {'text': 'He’s dead', 'start': 587.25, 'duration': 1.63}, {'text': 'Ok, nice', 'start': 589.45, 'duration': 1.2}, {'text': 'One more left', 'start': 592.81, 'duration': 1.0}, {'text': 'Wait, let me go out to reload my weapons', 'start': 593.81, 'duration': 2.5}, {'text': 'I don’t know what happened to my gun but it’s ok', 'start': 597.25, 'duration': 1.83}, {'text': 'Hello there', 'start': 601.85, 'duration': 1.3}, {'text': 'Come here, buddy', 'start': 603.45, 'duration': 1.43}, {'text': 'I was about to die', 'start': 612.75, 'duration': 1.46}, {'text': 'I was about to die, guys', 'start': 614.21, 'duration': 1.27}, {'text': 'It seems like riding a pig doesn’t work well', 'start': 615.58, 'duration': 3.93}, {'text': 'What do you say? Should I leave him?', 'start': 619.95, 'duration': 2.26}, {'text': 'You know, I see many players \\ntake this weapon so I’ll take it too', 'start': 622.21, 'duration': 3.74}, {'text': 'I’ll take it instead of the Chromium or slime', 'start': 625.95, 'duration': 2.86}, {'text': 'Come here, dear', 'start': 628.81, 'duration': 1.2}, {'text': 'Let’s share our last Chromium', 'start': 630.01, 'duration': 1.8}, {'text': 'Come on, hurry', 'start': 633.98, 'duration': 1.17}, {'text': 'Where are you? Come back', 'start': 635.95, 'duration': 1.66}, {'text': 'Ok, ignore him', 'start': 637.61, 'duration': 1.47}, {'text': 'I’m already fast', 'start': 639.58, 'duration': 1.47}, {'text': 'Go, go, to the zone', 'start': 641.05, 'duration': 1.86}, {'text': 'Woah, the zone is far', 'start': 642.91, 'duration': 2.3}, {'text': 'We’re dead', 'start': 645.21, 'duration': 0.84}, {'text': 'I hope the Chromium doesn’t run out', 'start': 646.05, 'duration': 2.13}, {'text': 'Run, run, come on', 'start': 651.91, 'duration': 2.1}, {'text': 'Don’t stop running', 'start': 654.21, 'duration': 1.44}, {'text': 'Hello there', 'start': 656.71, 'duration': 1.07}, {'text': 'Hello', 'start': 658.05, 'duration': 1.73}, {'text': 'Turn off the music, turns it off', 'start': 664.01, 'duration': 2.44}, {'text': 'Come on, come on', 'start': 668.45, 'duration': 0.73}, {'text': 'Use your resources in the best way possible', 'start': 669.18, 'duration': 3.7}, {'text': 'Come on', 'start': 673.05, 'duration': 0.86}, {'text': 'Ok, someone is coming', 'start': 676.85, 'duration': 1.2}, {'text': 'He pretended he didn’t see me \\nand I’ll do the same thing', 'start': 683.38, 'duration': 2.2}, {'text': 'Run, run, wait', 'start': 692.58, 'duration': 1.4}, {'text': 'No! I’m sandwiched, I’m sandwiched', 'start': 698.81, 'duration': 2.34}, {'text': 'Run, run', 'start': 703.38, 'duration': 0.9}, {'text': 'Run, run, run', 'start': 704.28, 'duration': 1.67}, {'text': 'No', 'start': 708.18, 'duration': 0.93}, {'text': 'Drink, drink', 'start': 709.41, 'duration': 1.0}, {'text': 'No', 'start': 711.55, 'duration': 1.06}, {'text': 'Hurry up, hurry up', 'start': 714.45, 'duration': 1.03}, {'text': 'How did I run away?', 'start': 722.75, 'duration': 1.2}, {'text': 'I don’t know', 'start': 724.11, 'duration': 1.17}, {'text': 'No!!', 'start': 731.68, 'duration': 1.03}, {'text': 'Come here, buddy', 'start': 734.21, 'duration': 1.2}, {'text': 'You think I didn’t see you?', 'start': 735.41, 'duration': 1.5}, {'text': 'You think I didn’t see you?', 'start': 738.05, 'duration': 1.13}, {'text': 'I figured out how this shotgun works, guys', 'start': 739.18, 'duration': 2.7}, {'text': 'The secret is, the bullet… wait', 'start': 742.11, 'duration': 4.07}, {'text': 'The bullet goes all directions', 'start': 746.91, 'duration': 1.17}, {'text': 'So, if I get close enough to an enemy', 'start': 748.08, 'duration': 2.97}, {'text': 'All bullets will hit him. Get the idea?', 'start': 751.05, 'duration': 3.4}, {'text': 'Nice, very nice', 'start': 754.95, 'duration': 1.63}, {'text': 'Hello!', 'start': 757.18, 'duration': 0.93}, {'text': 'What’s happening?', 'start': 761.58, 'duration': 1.23}, {'text': 'I’m stuck', 'start': 765.65, 'duration': 1.26}, {'text': 'Come on', 'start': 768.31, 'duration': 0.94}, {'text': 'Spiderman! We’re brothers', 'start': 774.75, 'duration': 2.16}, {'text': 'Spiderman', 'start': 776.91, 'duration': 1.24}, {'text': 'What are they doing? Dancing!', 'start': 779.21, 'duration': 2.37}, {'text': 'This one is playing football, a pro', 'start': 781.71, 'duration': 1.97}, {'text': 'I see chests there too, I’m going', 'start': 784.95, 'duration': 1.8}, {'text': 'A golden shotgun! This is the winning match', 'start': 790.95, 'duration': 2.26}, {'text': 'This is it', 'start': 793.21, 'duration': 1.04}, {'text': 'Let’s go to the footballers', 'start': 794.25, 'duration': 2.26}, {'text': 'We want to play with you, guys', 'start': 796.51, 'duration': 1.67}, {'text': 'They’re having a good time, the world cup', 'start': 809.55, 'duration': 3.06}, {'text': 'This poor guy is standing outside, let him in', 'start': 812.61, 'duration': 2.84}, {'text': 'Or maybe he’s wondering about what they’re doing', 'start': 815.45, 'duration': 2.4}, {'text': 'How is this for you? How is it?', 'start': 821.61, 'duration': 2.47}, {'text': 'How is it? I’m not joking around here', 'start': 824.71, 'duration': 2.6}, {'text': 'This shotgun is the best, guys', 'start': 827.31, 'duration': 2.37}, {'text': 'Welcome, drifter', 'start': 829.95, 'duration': 1.96}, {'text': 'He’s dead', 'start': 832.45, 'duration': 1.0}, {'text': 'And he’s dead', 'start': 833.45, 'duration': 2.66}, {'text': 'He’s dead, he’s dead, he’s dead', 'start': 836.65, 'duration': 4.06}, {'text': 'He was going to hit me', 'start': 845.78, 'duration': 1.6}, {'text': 'You only see this in action movies', 'start': 848.15, 'duration': 3.13}, {'text': 'Ok, now it’s the internet connection time', 'start': 851.28, 'duration': 2.1}, {'text': 'Nice, nice', 'start': 854.18, 'duration': 0.97}, {'text': 'You do this to me? Ha', 'start': 855.41, 'duration': 1.84}, {'text': 'Keep it up', 'start': 857.25, 'duration': 1.46}, {'text': 'A red X, an arrow pointing down and acting like a jerk', 'start': 859.01, 'duration': 2.9}, {'text': 'Guys, our strategy is', 'start': 861.91, 'duration': 1.87}, {'text': 'Wait here for a while', 'start': 864.35, 'duration': 2.33}, {'text': 'Someone is coming', 'start': 893.01, 'duration': 1.1}, {'text': 'Come down, do it', 'start': 897.91, 'duration': 2.6}, {'text': 'He’s too scared to come down, just do it', 'start': 900.51, 'duration': 2.77}, {'text': 'Hello! What did he just do?', 'start': 904.55, 'duration': 1.43}, {'text': 'I don’t know', 'start': 906.05, 'duration': 0.83}, {'text': 'Only 5 players left', 'start': 906.88, 'duration': 1.43}, {'text': 'Yeah, fight each other', 'start': 909.11, 'duration': 1.37}, {'text': 'Nice, 3 players left', 'start': 910.98, 'duration': 1.77}, {'text': 'Two players died at the same time, what?', 'start': 913.28, 'duration': 2.37}, {'text': 'Look how many crowns are on the map', 'start': 915.65, 'duration': 1.8}, {'text': 'Whether I win or not, this is the last match by the way', 'start': 917.45, 'duration': 2.96}, {'text': 'Someone is collecting all crowns on the map', 'start': 921.11, 'duration': 3.14}, {'text': 'You can take more than one crown!', 'start': 924.91, 'duration': 1.8}, {'text': 'This is my match Inshallah', 'start': 926.71, 'duration': 3.04}, {'text': 'Let me just wipe my hands', 'start': 930.85, 'duration': 1.46}, {'text': 'Drink some water', 'start': 932.31, 'duration': 1.6}, {'text': 'Guys, I don’t know what the situation is', 'start': 936.51, 'duration': 1.7}, {'text': 'I repeat, I don’t know what the situation is', 'start': 938.71, 'duration': 1.64}, {'text': 'But I need to get out of here sadly', 'start': 940.35, 'duration': 2.53}, {'text': 'Sadly, I must leave', 'start': 942.88, 'duration': 1.17}, {'text': 'Why don’t you damage each other and I come \\nand finish the last one standing?', 'start': 944.05, 'duration': 4.16}, {'text': 'And that’s how we end a nice and beautiful video', 'start': 948.21, 'duration': 2.74}, {'text': 'Nice, nice', 'start': 951.01, 'duration': 0.84}, {'text': 'That’s what I’m talking about', 'start': 951.85, 'duration': 1.7}, {'text': 'That’s it', 'start': 953.85, 'duration': 0.83}, {'text': 'I’m on the top and safe for now', 'start': 954.68, 'duration': 1.97}, {'text': 'But I don’t know if someone can \\ncome from this door or not?', 'start': 956.65, 'duration': 2.6}, {'text': 'Just fight each other already, please', 'start': 959.25, 'duration': 1.93}, {'text': 'Don’t make this hard for me', 'start': 961.18, 'duration': 0.9}, {'text': 'Please, where are they?', 'start': 962.08, 'duration': 2.03}, {'text': 'All 3 of them are thinking like me apparently', 'start': 964.11, 'duration': 4.37}, {'text': 'O my God, guys', 'start': 968.48, 'duration': 1.6}, {'text': 'What’s going on up there?', 'start': 970.08, 'duration': 1.5}, {'text': 'Hell with these bots', 'start': 975.35, 'duration': 1.83}, {'text': 'No, no, please', 'start': 986.61, 'duration': 1.64}, {'text': 'That was a bot from earlier', 'start': 988.25, 'duration': 1.56}, {'text': 'What’s going on? I have all golden weapons', 'start': 989.81, 'duration': 1.84}, {'text': 'Hello! Where is he, up here or downhill?', 'start': 991.68, 'duration': 2.87}, {'text': 'Buddy, come say hi', 'start': 994.75, 'duration': 2.3}, {'text': 'Man, this is a bot', 'start': 998.15, 'duration': 1.46}, {'text': 'Right?', 'start': 1000.35, 'duration': 1.23}, {'text': 'It’s a bot, we’re dead', 'start': 1001.58, 'duration': 2.0}, {'text': 'Ok, great', 'start': 1004.81, 'duration': 1.14}, {'text': 'We’re doomed', 'start': 1006.95, 'duration': 1.33}, {'text': 'What just happened?', 'start': 1012.51, 'duration': 1.04}, {'text': 'Guys', 'start': 1013.98, 'duration': 1.0}, {'text': 'No, no, no', 'start': 1017.58, 'duration': 1.47}, {'text': 'No, please', 'start': 1019.68, 'duration': 1.2}, {'text': 'This bot won’t let me be', 'start': 1021.91, 'duration': 2.27}, {'text': 'Where is he? Where is he?', 'start': 1030.98, 'duration': 1.13}, {'text': 'He must be hiding…', 'start': 1032.35, 'duration': 1.53}, {'text': 'No!', 'start': 1034.01, 'duration': 0.97}, {'text': 'I’m going to die', 'start': 1037.25, 'duration': 1.13}, {'text': \"Guys, I'm not playing this match\", 'start': 1044.98, 'duration': 2.07}, {'text': 'I won’t finish this match, I swear to God', 'start': 1047.05, 'duration': 2.16}, {'text': 'I’m not playing, I swear', 'start': 1049.21, 'duration': 1.74}, {'text': 'I’m not playing, I swear', 'start': 1050.95, 'duration': 1.5}, {'text': 'Where did Bander die?', 'start': 1073.91, 'duration': 1.14}, {'text': 'In the toilet', 'start': 1075.05, 'duration': 1.0}, {'text': 'He literally died in the toilet', 'start': 1076.21, 'duration': 1.97}]\n"
     ]
    }
   ],
   "source": [
    "#this one here is for scarping all the subtitle\n",
    "from youtube_transcript_api import YouTubeTranscriptApi\n",
    "srt = YouTubeTranscriptApi.get_transcript(\"pntOl0A7tDQ\")#here you just have to put the id\n",
    "print(srt)"
   ]
  },
  {
   "cell_type": "code",
   "execution_count": null,
   "id": "f7946b5f",
   "metadata": {},
   "outputs": [],
   "source": []
  }
 ],
 "metadata": {
  "kernelspec": {
   "display_name": "Python 3 (ipykernel)",
   "language": "python",
   "name": "python3"
  },
  "language_info": {
   "codemirror_mode": {
    "name": "ipython",
    "version": 3
   },
   "file_extension": ".py",
   "mimetype": "text/x-python",
   "name": "python",
   "nbconvert_exporter": "python",
   "pygments_lexer": "ipython3",
   "version": "3.10.4"
  }
 },
 "nbformat": 4,
 "nbformat_minor": 5
}
